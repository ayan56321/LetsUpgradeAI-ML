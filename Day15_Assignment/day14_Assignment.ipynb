{
 "cells": [
  {
   "cell_type": "code",
   "execution_count": 1,
   "metadata": {},
   "outputs": [],
   "source": [
    "import numpy as np"
   ]
  },
  {
   "cell_type": "code",
   "execution_count": 2,
   "metadata": {},
   "outputs": [
    {
     "data": {
      "text/plain": [
       "array([[0.43972593, 0.01985018, 0.30691575],\n",
       "       [0.79181442, 0.43488207, 0.53286373],\n",
       "       [0.40869175, 0.35740272, 0.58991291]])"
      ]
     },
     "execution_count": 2,
     "metadata": {},
     "output_type": "execute_result"
    }
   ],
   "source": [
    "#Create a 3x3x3 array with random values\n",
    "np.random.rand(3,3)"
   ]
  },
  {
   "cell_type": "code",
   "execution_count": 8,
   "metadata": {},
   "outputs": [
    {
     "name": "stdout",
     "output_type": "stream",
     "text": [
      "Today's date: 2020-07-27\n",
      "2020-07-26\n",
      "2020-07-28\n"
     ]
    }
   ],
   "source": [
    "#How to get the dates of yesterday, today and tomorrow?\n",
    "from datetime import date\n",
    "\n",
    "today = date.today()\n",
    "print(\"Today's date:\", today)\n",
    "\n",
    "import datetime\n",
    "today = datetime.date.today()\n",
    "yesterday = today - datetime.timedelta(days=1)\n",
    "\n",
    "print(yesterday)\n",
    "\n",
    "tom = today + datetime.timedelta(days=1)\n",
    "print(tom)"
   ]
  },
  {
   "cell_type": "code",
   "execution_count": 15,
   "metadata": {},
   "outputs": [
    {
     "name": "stdout",
     "output_type": "stream",
     "text": [
      "Checkerboard pattern:\n",
      "[[0 1 0 1 0 1 0 1]\n",
      " [1 0 1 0 1 0 1 0]\n",
      " [0 1 0 1 0 1 0 1]\n",
      " [1 0 1 0 1 0 1 0]\n",
      " [0 1 0 1 0 1 0 1]\n",
      " [1 0 1 0 1 0 1 0]\n",
      " [0 1 0 1 0 1 0 1]\n",
      " [1 0 1 0 1 0 1 0]]\n"
     ]
    }
   ],
   "source": [
    "import numpy as np\n",
    "print(\"Checkerboard pattern:\")\n",
    "x = np.zeros((8,8),dtype=int)\n",
    "\n",
    "x[1::2,::2] = 1\n",
    "x[::2,1::2] = 1\n",
    "#print(x)\n",
    "print(x)"
   ]
  },
  {
   "cell_type": "code",
   "execution_count": 19,
   "metadata": {},
   "outputs": [
    {
     "name": "stdout",
     "output_type": "stream",
     "text": [
      "[4 5]\n"
     ]
    }
   ],
   "source": [
    "#How to find common values between two arrays?\n",
    "a = np.array([1,2,3,4,5])\n",
    "b = np.array([4,5,6,7,8])\n",
    "\n",
    "print(np.intersect1d(a,b))"
   ]
  },
  {
   "cell_type": "code",
   "execution_count": 22,
   "metadata": {},
   "outputs": [
    {
     "name": "stdout",
     "output_type": "stream",
     "text": [
      "[[0.39692008 0.87836301 0.69877421]\n",
      " [0.89159844 0.61859782 0.21434761]\n",
      " [0.23932969 0.73479086 0.35614564]]\n",
      "[[0.95137709 0.59519736 0.46822169]\n",
      " [0.34480524 0.15963784 0.80042601]\n",
      " [0.84339541 0.14653502 0.0630797 ]]\n",
      "[[False False False]\n",
      " [False False False]\n",
      " [False False False]]\n"
     ]
    }
   ],
   "source": [
    "#Consider two random array A and B, check if they are equal\n",
    "arr1 = np.random.rand(3,3)\n",
    "arr2 = np.random.rand(3,3)\n",
    "\n",
    "print(arr1)\n",
    "print(arr2)\n",
    "\n",
    "print(arr1== arr2)"
   ]
  },
  {
   "cell_type": "code",
   "execution_count": 23,
   "metadata": {},
   "outputs": [
    {
     "name": "stdout",
     "output_type": "stream",
     "text": [
      "[29 67]\n"
     ]
    }
   ],
   "source": [
    "#How to get the diagonal of a dot product?\n",
    "\n",
    "i = np.array([[1,2],[3,4]])\n",
    "v=np.array([9,10])\n",
    "\n",
    "print (i.dot(v))"
   ]
  },
  {
   "cell_type": "code",
   "execution_count": 24,
   "metadata": {},
   "outputs": [
    {
     "name": "stdout",
     "output_type": "stream",
     "text": [
      "Original array:\n",
      "[1 6 5 5 1 0 4 7 1 0 3 8 2 4 8 2 3 7 6 6 7 8 6 6 9 6 4 5 7 9 6 3 3 1 8 9 1\n",
      " 8 9 3]\n",
      "Most frequent value in the above array:\n",
      "6\n"
     ]
    }
   ],
   "source": [
    "#13.How to find the most frequent value in an array?\n",
    "import numpy as np\n",
    "x = np.random.randint(0, 10, 40)\n",
    "print(\"Original array:\")\n",
    "print(x)\n",
    "print(\"Most frequent value in the above array:\")\n",
    "print(np.bincount(x).argmax())"
   ]
  },
  {
   "cell_type": "code",
   "execution_count": 37,
   "metadata": {},
   "outputs": [
    {
     "name": "stdout",
     "output_type": "stream",
     "text": [
      "[[ 1  2 11]\n",
      " [ 3  4 10]\n",
      " [ 4  5  6]]\n",
      "11\n",
      "(3, 3)\n",
      "Values in  0  row\n",
      "1\n",
      "2\n",
      "11\n",
      "Values in  1  row\n",
      "3\n",
      "4\n",
      "10\n",
      "Values in  2  row\n",
      "4\n",
      "5\n",
      "6\n"
     ]
    }
   ],
   "source": [
    "#How to print all the values of an array?\n",
    "i = np.array([[1,2,11],[3,4,10],[4,5,6]])\n",
    "print(i)\n",
    "\n",
    "#print ('Max Value is ',i.max())\n",
    "\n",
    "print(i.shape)\n",
    "\n",
    "for x in (range(i.shape[0])):\n",
    "    print('Values in ',x,' row')\n",
    "    for y in (range(i.shape[1])):\n",
    "              print (i[x][y])"
   ]
  },
  {
   "cell_type": "code",
   "execution_count": 38,
   "metadata": {},
   "outputs": [
    {
     "name": "stdout",
     "output_type": "stream",
     "text": [
      "Original Array:\n",
      "[[0.05151324 0.79539702 0.45797676 0.26814503 0.20837407]\n",
      " [0.33930864 0.77769174 0.97652174 0.38212336 0.74587699]\n",
      " [0.39059069 0.95261484 0.56694888 0.11675642 0.80774158]\n",
      " [0.05782734 0.86768305 0.14717716 0.97060343 0.97743504]\n",
      " [0.32337421 0.16377717 0.44899599 0.21071179 0.5504798 ]]\n",
      "After normalization:\n",
      "[[0.         0.80339807 0.43898256 0.23396338 0.16941046]\n",
      " [0.31082042 0.78427628 0.99901363 0.35706052 0.74991619]\n",
      " [0.36620528 0.97319407 0.55667298 0.07046294 0.81673025]\n",
      " [0.00681926 0.88146732 0.10331749 0.99262184 1.        ]\n",
      " [0.29361116 0.12124559 0.42928329 0.1719352  0.53888629]]\n"
     ]
    }
   ],
   "source": [
    "#Normalize a 5x5 random matrix\n",
    "import numpy as np\n",
    "x= np.random.random((5,5))\n",
    "print(\"Original Array:\")\n",
    "print(x)\n",
    "xmax, xmin = x.max(), x.min()\n",
    "x = (x - xmin)/(xmax - xmin)\n",
    "print(\"After normalization:\")\n",
    "print(x)"
   ]
  },
  {
   "cell_type": "code",
   "execution_count": 51,
   "metadata": {},
   "outputs": [
    {
     "name": "stdout",
     "output_type": "stream",
     "text": [
      "Original matrix:\n",
      "\n",
      "[[0.40948078 0.28197119 0.35422272]\n",
      " [0.54251267 0.74602955 0.70759475]\n",
      " [0.47751408 0.62116085 0.82513715]]\n",
      "\n",
      "Subtract the mean of each row of the said matrix:\n",
      "\n",
      "[[ 0.06092255 -0.06658704  0.00566449]\n",
      " [-0.12286632  0.08065056  0.04221577]\n",
      " [-0.16375661 -0.02010984  0.18386646]]\n"
     ]
    }
   ],
   "source": [
    "#Subtract the mean of each row of a matrix\n",
    "import numpy as np\n",
    "print(\"Original matrix:\\n\")\n",
    "X = np.random.rand(3,3)\n",
    "print(X)\n",
    "print(\"\\nSubtract the mean of each row of the said matrix:\\n\")\n",
    "Y = X - X.mean(axis=1, keepdims=True)\n",
    "print(Y)\n",
    "\n"
   ]
  },
  {
   "cell_type": "code",
   "execution_count": 52,
   "metadata": {},
   "outputs": [
    {
     "name": "stdout",
     "output_type": "stream",
     "text": [
      "original Array\n",
      "[0.64739266 0.71648471 0.73528334 0.51020332 0.98812223 0.03587992\n",
      " 0.86655433 0.08365673 0.82763666 0.55972763]\n",
      "Max value replaced by 0\n",
      "[0.64739266 0.71648471 0.73528334 0.51020332 0.         0.03587992\n",
      " 0.86655433 0.08365673 0.82763666 0.55972763]\n"
     ]
    }
   ],
   "source": [
    "#Create random vector of size 10 and replace the maximum value by 0\n",
    "import numpy as np\n",
    "x= np.random.random(10)\n",
    "print (\"original Array\")\n",
    "print(x)\n",
    "\n",
    "x[x.argmax()] = 0\n",
    "print(\"Max value replaced by 0\")\n",
    "print(x)\n"
   ]
  },
  {
   "cell_type": "code",
   "execution_count": 53,
   "metadata": {},
   "outputs": [
    {
     "name": "stdout",
     "output_type": "stream",
     "text": [
      "original Array\n",
      "[0.97193948 0.39767652 0.46292478 0.51038838 0.05590737 0.46232226\n",
      " 0.21123979 0.21056482 0.80438928 0.16369874]\n",
      "Sorted Array\n",
      "[0.05590737 0.16369874 0.21056482 0.21123979 0.39767652 0.46232226\n",
      " 0.46292478 0.51038838 0.80438928 0.97193948]\n"
     ]
    }
   ],
   "source": [
    "#How to get the n largest values of an array\n",
    "import numpy as np\n",
    "x= np.random.random(10)\n",
    "print (\"original Array\")\n",
    "print(x)\n",
    "\n",
    "x.sort()\n",
    "print(\"Sorted Array\")\n",
    "print(x)\n"
   ]
  },
  {
   "cell_type": "code",
   "execution_count": 54,
   "metadata": {},
   "outputs": [
    {
     "name": "stdout",
     "output_type": "stream",
     "text": [
      "(1, 'Red', 12.2)\n",
      "(2, 'Green', 15.)\n",
      "(3, 'White', 20.)\n"
     ]
    }
   ],
   "source": [
    "#How to create a record array from a regular array\n",
    "import numpy as np\n",
    "a1=np.array([1,2,3,4])\n",
    "a2=np.array(['Red','Green','White','Orange'])\n",
    "a3=np.array([12.20,15,20,40])\n",
    "result= np.core.records.fromarrays([a1, a2, a3],names='a,b,c')\n",
    "print(result[0])\n",
    "print(result[1])\n",
    "print(result[2])"
   ]
  },
  {
   "cell_type": "code",
   "execution_count": 55,
   "metadata": {},
   "outputs": [
    {
     "name": "stdout",
     "output_type": "stream",
     "text": [
      "[4. 1. 3. 5. 1. 2. 3. 2. 3. 6.]\n"
     ]
    }
   ],
   "source": [
    "#Consider a given vector, how to add 1 to each element indexed by a second vector\n",
    "Z = np.ones(10)\n",
    "I = np.random.randint(0,len(Z),20)\n",
    "Z += np.bincount(I, minlength=len(Z))\n",
    "print(Z)"
   ]
  },
  {
   "cell_type": "code",
   "execution_count": 56,
   "metadata": {},
   "outputs": [
    {
     "data": {
      "text/plain": [
       "array([21, 71, 48])"
      ]
     },
     "execution_count": 56,
     "metadata": {},
     "output_type": "execute_result"
    }
   ],
   "source": [
    "#How to get the diagonal of a dot product \n",
    "A = np.random.randint(0,10,(3,3))\n",
    "B= np.random.randint(0,10,(3,3))\n",
    "#Slow version\n",
    "\n",
    "np.diag(np.dot(A, B))\n"
   ]
  },
  {
   "cell_type": "code",
   "execution_count": 57,
   "metadata": {},
   "outputs": [
    {
     "name": "stdout",
     "output_type": "stream",
     "text": [
      "[[0 0 0 0 0]\n",
      " [1 0 0 0 0]\n",
      " [0 2 0 0 0]\n",
      " [0 0 3 0 0]\n",
      " [0 0 0 4 0]]\n"
     ]
    }
   ],
   "source": [
    "#Create a 5x5 matrix with values 1,2,3,4 just below the diagonal\n",
    "Z = np.diag(1+np.arange(4), k = -1)\n",
    "print (Z)"
   ]
  },
  {
   "cell_type": "code",
   "execution_count": null,
   "metadata": {},
   "outputs": [],
   "source": []
  }
 ],
 "metadata": {
  "kernelspec": {
   "display_name": "Python 3",
   "language": "python",
   "name": "python3"
  },
  "language_info": {
   "codemirror_mode": {
    "name": "ipython",
    "version": 3
   },
   "file_extension": ".py",
   "mimetype": "text/x-python",
   "name": "python",
   "nbconvert_exporter": "python",
   "pygments_lexer": "ipython3",
   "version": "3.7.6"
  }
 },
 "nbformat": 4,
 "nbformat_minor": 4
}
