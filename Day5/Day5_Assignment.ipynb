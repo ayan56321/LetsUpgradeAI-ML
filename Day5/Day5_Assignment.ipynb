{
 "cells": [
  {
   "cell_type": "code",
   "execution_count": 15,
   "metadata": {},
   "outputs": [
    {
     "name": "stdout",
     "output_type": "stream",
     "text": [
      "New String is  drdarshaningleaimltrainer\n"
     ]
    }
   ],
   "source": [
    "name = \"Dr. Darshan Ingle@AI-ML Trainer\"\n",
    "i=0\n",
    "char = [\"@\",\"-\",\".\",\" \"]\n",
    "lst = []\n",
    "\n",
    "while i<= len(name)-1:\n",
    "    d = name[i] \n",
    "    \n",
    "    if name[i] not in char:\n",
    "        lst.append(name[i].lower())\n",
    "        \n",
    "    i=i+1\n",
    "\n",
    "final_str = \"\".join(lst)\n",
    "\n",
    "print(\"New String is \",final_str)"
   ]
  },
  {
   "cell_type": "code",
   "execution_count": 25,
   "metadata": {},
   "outputs": [
    {
     "name": "stdout",
     "output_type": "stream",
     "text": [
      "Enter a String to check Palindrome test\n",
      "String  test  is NOT a Palindrome\n"
     ]
    }
   ],
   "source": [
    "def reverse_while_loop(s):\n",
    "    s1 = ''\n",
    "    length = len(s) - 1\n",
    "    while length >= 0:\n",
    "        s1 = s1 + s[length]\n",
    "        length = length - 1\n",
    "    return s1\n",
    "\n",
    "input_str = input (\"Enter a String to check Palindrome \")\n",
    "str_reverse =  reverse_while_loop(input_str)\n",
    "\n",
    "if input_str == str_reverse :\n",
    "    print (\"String \",input_str,\" is a Palindrome\")\n",
    "else:\n",
    "    print (\"String \",input_str,\" is NOT a Palindrome\")\n",
    "    \n"
   ]
  },
  {
   "cell_type": "code",
   "execution_count": 48,
   "metadata": {},
   "outputs": [
    {
     "name": "stdout",
     "output_type": "stream",
     "text": [
      "Student is learning python and they are happy\n",
      "STUDENT IS LEARNING PYTHON AND THEY ARE HAPPY\n",
      "1\n",
      "False\n",
      "student is learning python and they are happy\n",
      "sTUDENT IS LEARNING PYTHON AND THEY ARE HAPPY\n",
      "True\n",
      "Student is learning Java and they are happy\n",
      "True\n",
      "Student Is Learning Python And They Are Happy\n",
      "['Student', 'is', 'learning', 'python', 'and', 'they', 'are', 'happy']\n",
      "Student is learning python and they are happy\n",
      "                           Student is learning python and they are happy                            \n",
      "31\n",
      "False\n",
      "Modi is learning python and they are happy\n"
     ]
    }
   ],
   "source": [
    "\"#Python program to implement 15 functions of string.\",\n",
    "my_str='Student is learning python and they are happy'\n",
    "\n",
    "print(my_str)\n",
    "#Methods\n",
    "print(my_str.upper())\n",
    "print(my_str.count('Student'))\n",
    "print(my_str.isnumeric())\n",
    "print(my_str.lower())\n",
    "print(my_str.swapcase())\n",
    "print(my_str.endswith('happy'))\n",
    "print(my_str.replace('python','Java'))\n",
    "print(my_str.isprintable())\n",
    "print(my_str.title())\n",
    "print(my_str.split())\n",
    "print(my_str.capitalize())\n",
    "print(my_str.center(100))\n",
    "print(my_str.find(\"they\"))\n",
    "print(my_str.isalpha())\n",
    "print(my_str.replace(\"Student\",\"Modi\"))\n"
   ]
  },
  {
   "cell_type": "code",
   "execution_count": 53,
   "metadata": {},
   "outputs": [
    {
     "name": "stdout",
     "output_type": "stream",
     "text": [
      "Enter start number 1\n",
      "Enter end number 1000\n",
      "[2, 3, 5, 7, 11, 13, 17, 19, 23, 29, 31, 37, 41, 43, 47, 53, 59, 61, 67, 71]\n"
     ]
    }
   ],
   "source": [
    "#Assignment 5 - Q-1\n",
    "#Python program to find the first 20 non-even prime natural numbers.\n",
    "a=int(input(\"Enter start number \"))\n",
    "b=int(input(\"Enter end number \"))\n",
    "X=[]\n",
    "z=0\n",
    "for num in range(a,b+1):\n",
    "    if num>1:\n",
    "        for i in range(2,num):\n",
    "            if num%i == 0:\n",
    "                break\n",
    "        else:\n",
    "            X.append(num)\n",
    "            z=z+1\n",
    "            if z==20:\n",
    "                break\n",
    "print(X)"
   ]
  },
  {
   "cell_type": "code",
   "execution_count": 54,
   "metadata": {},
   "outputs": [
    {
     "name": "stdout",
     "output_type": "stream",
     "text": [
      "Enter a First string: listen\n",
      "Enter a Second string: silent\n",
      "The strings are Anagram\n"
     ]
    }
   ],
   "source": [
    "#Assignment 5 - Q-3\n",
    "#Python program to check if the given string is a Palindrome or Anagram or None of them.\n",
    "#Display the message accordingly to the user.\n",
    "\n",
    "a=input(\"Enter a First string: \")\n",
    "b=input(\"Enter a Second string: \")\n",
    "\n",
    "\n",
    "X=[]\n",
    "for i in a:\n",
    "    X.append(i)\n",
    "if X==X[::-1]:\n",
    "    print(\"The given word is palindrome\")\n",
    "elif (sorted(a)==sorted(b)):\n",
    "    print(\"The strings are Anagram\")\n",
    "else:\n",
    "    print(\"None of the above !!!\")\n"
   ]
  },
  {
   "cell_type": "code",
   "execution_count": null,
   "metadata": {},
   "outputs": [],
   "source": []
  }
 ],
 "metadata": {
  "kernelspec": {
   "display_name": "Python 3",
   "language": "python",
   "name": "python3"
  },
  "language_info": {
   "codemirror_mode": {
    "name": "ipython",
    "version": 3
   },
   "file_extension": ".py",
   "mimetype": "text/x-python",
   "name": "python",
   "nbconvert_exporter": "python",
   "pygments_lexer": "ipython3",
   "version": "3.7.6"
  }
 },
 "nbformat": 4,
 "nbformat_minor": 4
}
