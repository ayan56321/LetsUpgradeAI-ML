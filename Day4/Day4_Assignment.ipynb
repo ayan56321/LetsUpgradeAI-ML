{
 "cells": [
  {
   "cell_type": "code",
   "execution_count": 5,
   "metadata": {},
   "outputs": [
    {
     "name": "stdout",
     "output_type": "stream",
     "text": [
      "Quotient Value after divide by 2 > 7 =  56\n",
      "Quotient Value after divide by 2 > 7 =  34\n",
      "Quotient Value after divide by 2 > 7 =  253\n",
      "Quotient Value after divide by 2 > 7 =  56\n",
      "Quotient Value after divide by 2 > 7 =  90\n",
      "Quotient Value after divide by 2 > 7 =  100\n"
     ]
    }
   ],
   "source": [
    "lst = [56,12,34,2,253,11,56,90,100,10]\n",
    "\n",
    "for i in lst:\n",
    "    if (i//2) > 7:\n",
    "        print (\"Quotient Value after divide by 2 > 7 = \",i)"
   ]
  },
  {
   "cell_type": "code",
   "execution_count": 9,
   "metadata": {},
   "outputs": [
    {
     "name": "stdout",
     "output_type": "stream",
     "text": [
      "Actual Value [Square of Number 56  - 2]=  3134\n",
      "Actual Value [Square of Number 12  - 2]=  142\n",
      "Actual Value [Square of Number 34  - 2]=  1154\n",
      "Actual Value [Square of Number 2  - 2]=  2\n",
      "Actual Value [Square of Number 56  - 2]=  3134\n",
      "Actual Value [Square of Number 90  - 2]=  8098\n",
      "Actual Value [Square of Number 100  - 2]=  9998\n",
      "Actual Value [Square of Number 10  - 2]=  98\n"
     ]
    }
   ],
   "source": [
    "lst = [56,12,34,2,253,11,56,90,100,10]\n",
    "\n",
    "for i in lst:\n",
    "    if (i%2) == 0 :\n",
    "        print ( \"Actual Value [Square of Number\",i,\" - 2]= \",i**2 - 2)\n",
    "\n"
   ]
  },
  {
   "cell_type": "code",
   "execution_count": 12,
   "metadata": {},
   "outputs": [
    {
     "name": "stdout",
     "output_type": "stream",
     "text": [
      "Enter 1st Number - 27\n",
      "Enter 2nd Number - 1\n",
      "Multiplication of  27 And 1 = 27\n"
     ]
    }
   ],
   "source": [
    "a= int(input(\"Enter 1st Number - \"))\n",
    "b= int(input(\"Enter 2nd Number - \"))\n",
    "\n",
    "if a>b :\n",
    "    sub = a-b\n",
    "else :\n",
    "    sub = b - a\n",
    "    \n",
    "if sub > 25 :\n",
    "    print (\"Multiplication of \",a,\"And\",b,\"=\",a*b)\n",
    "else :\n",
    "    print (\"Division of\",a,\"And\",b,\"=\",a/b)\n",
    "    \n",
    "    "
   ]
  },
  {
   "cell_type": "code",
   "execution_count": 7,
   "metadata": {},
   "outputs": [
    {
     "name": "stdout",
     "output_type": "stream",
     "text": [
      "Enter Complex No.1 5+8j\n",
      "Enter Complex No.2 7+7j\n",
      "Addition of  (5+8j) And (7+7j) = (12+15j)\n",
      "Multiplication of  (5+8j) And (7+7j) = (-21+91j)\n",
      "Subtraction of  (5+8j) And (7+7j) = (-2+1j)\n",
      "Division of  (5+8j) And (7+7j) = (0.9285714285714286+0.21428571428571427j)\n"
     ]
    }
   ],
   "source": [
    "a = complex(input(\"Enter Complex No.1 \"))\n",
    "b = complex(input(\"Enter Complex No.2 \"))\n",
    "\n",
    "print (\"Addition of \",a,\"And\",b,\"=\",a+b)\n",
    "print (\"Multiplication of \",a,\"And\",b,\"=\",a*b)\n",
    "print (\"Subtraction of \",a,\"And\",b,\"=\",a-b)\n",
    "print (\"Division of \",a,\"And\",b,\"=\",a/b)\n",
    "#print (\"Modulo of \",a,\"And\",b,\"=\",a%b)\n"
   ]
  },
  {
   "cell_type": "markdown",
   "metadata": {},
   "source": [
    "Range Function\n",
    "- range(3,10,2) --> Prints all values between 3,10 with steps of 2\n",
    "- range(3,10) --> Prints all values between 3,10 \n",
    "- range(10) --> Prints all values between 0 to 10\n"
   ]
  },
  {
   "cell_type": "code",
   "execution_count": null,
   "metadata": {},
   "outputs": [],
   "source": []
  }
 ],
 "metadata": {
  "kernelspec": {
   "display_name": "Python 3",
   "language": "python",
   "name": "python3"
  },
  "language_info": {
   "codemirror_mode": {
    "name": "ipython",
    "version": 3
   },
   "file_extension": ".py",
   "mimetype": "text/x-python",
   "name": "python",
   "nbconvert_exporter": "python",
   "pygments_lexer": "ipython3",
   "version": "3.7.6"
  }
 },
 "nbformat": 4,
 "nbformat_minor": 4
}
