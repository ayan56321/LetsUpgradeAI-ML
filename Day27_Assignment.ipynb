{
 "cells": [
  {
   "cell_type": "code",
   "execution_count": 1,
   "metadata": {},
   "outputs": [],
   "source": [
    "#Import mandatory packages for Python\n",
    "import numpy as np\n",
    "import pandas as pd\n",
    "import seaborn as sns\n",
    "import matplotlib.pyplot as plt"
   ]
  },
  {
   "cell_type": "code",
   "execution_count": 2,
   "metadata": {},
   "outputs": [],
   "source": [
    "from sklearn import preprocessing\n",
    "from sklearn.model_selection import train_test_split\n",
    "from sklearn.metrics import accuracy_score\n",
    "from sklearn.metrics import confusion_matrix"
   ]
  },
  {
   "cell_type": "code",
   "execution_count": 3,
   "metadata": {},
   "outputs": [],
   "source": [
    "data = pd.read_csv(\"train.csv\")"
   ]
  },
  {
   "cell_type": "code",
   "execution_count": 4,
   "metadata": {},
   "outputs": [
    {
     "data": {
      "text/plain": [
       "Index(['PassengerId', 'Survived', 'Pclass', 'Sex', 'Age', 'SibSp', 'Parch',\n",
       "       'Fare', 'Embarked'],\n",
       "      dtype='object')"
      ]
     },
     "execution_count": 4,
     "metadata": {},
     "output_type": "execute_result"
    }
   ],
   "source": [
    "#Drop Name,Ticket,Cabin\n",
    "data = data.drop([\"Name\",\"Ticket\",\"Cabin\"],axis=1)\n",
    "#data = data.drop([\"Name\"],axis=1)\n",
    "data.columns"
   ]
  },
  {
   "cell_type": "code",
   "execution_count": 5,
   "metadata": {},
   "outputs": [
    {
     "data": {
      "text/plain": [
       "LabelEncoder()"
      ]
     },
     "execution_count": 5,
     "metadata": {},
     "output_type": "execute_result"
    }
   ],
   "source": [
    "le = preprocessing.LabelEncoder()\n",
    "le.fit(data[\"Sex\"])"
   ]
  },
  {
   "cell_type": "code",
   "execution_count": 6,
   "metadata": {},
   "outputs": [],
   "source": [
    "data[\"Sex\"] = le.transform(data[\"Sex\"])\n",
    "data[\"Embarked\"] = le.fit_transform(data[\"Embarked\"])\n",
    "data[\"Age\"] = le.fit_transform(data[\"Age\"])\n",
    "data[\"Fare\"] = le.fit_transform(data[\"Fare\"])"
   ]
  },
  {
   "cell_type": "code",
   "execution_count": 7,
   "metadata": {},
   "outputs": [
    {
     "data": {
      "text/html": [
       "<div>\n",
       "<style scoped>\n",
       "    .dataframe tbody tr th:only-of-type {\n",
       "        vertical-align: middle;\n",
       "    }\n",
       "\n",
       "    .dataframe tbody tr th {\n",
       "        vertical-align: top;\n",
       "    }\n",
       "\n",
       "    .dataframe thead th {\n",
       "        text-align: right;\n",
       "    }\n",
       "</style>\n",
       "<table border=\"1\" class=\"dataframe\">\n",
       "  <thead>\n",
       "    <tr style=\"text-align: right;\">\n",
       "      <th></th>\n",
       "      <th>PassengerId</th>\n",
       "      <th>Survived</th>\n",
       "      <th>Pclass</th>\n",
       "      <th>Sex</th>\n",
       "      <th>Age</th>\n",
       "      <th>SibSp</th>\n",
       "      <th>Parch</th>\n",
       "      <th>Fare</th>\n",
       "      <th>Embarked</th>\n",
       "    </tr>\n",
       "  </thead>\n",
       "  <tbody>\n",
       "    <tr>\n",
       "      <th>0</th>\n",
       "      <td>1</td>\n",
       "      <td>0</td>\n",
       "      <td>3</td>\n",
       "      <td>1</td>\n",
       "      <td>28</td>\n",
       "      <td>1</td>\n",
       "      <td>0</td>\n",
       "      <td>18</td>\n",
       "      <td>2</td>\n",
       "    </tr>\n",
       "    <tr>\n",
       "      <th>1</th>\n",
       "      <td>2</td>\n",
       "      <td>1</td>\n",
       "      <td>1</td>\n",
       "      <td>0</td>\n",
       "      <td>51</td>\n",
       "      <td>1</td>\n",
       "      <td>0</td>\n",
       "      <td>207</td>\n",
       "      <td>0</td>\n",
       "    </tr>\n",
       "  </tbody>\n",
       "</table>\n",
       "</div>"
      ],
      "text/plain": [
       "   PassengerId  Survived  Pclass  Sex  Age  SibSp  Parch  Fare  Embarked\n",
       "0            1         0       3    1   28      1      0    18         2\n",
       "1            2         1       1    0   51      1      0   207         0"
      ]
     },
     "execution_count": 7,
     "metadata": {},
     "output_type": "execute_result"
    }
   ],
   "source": [
    "data.head(2)"
   ]
  },
  {
   "cell_type": "markdown",
   "metadata": {},
   "source": [
    "# SVM Technique Using Loops"
   ]
  },
  {
   "cell_type": "code",
   "execution_count": 9,
   "metadata": {},
   "outputs": [],
   "source": [
    "from sklearn import svm"
   ]
  },
  {
   "cell_type": "code",
   "execution_count": 82,
   "metadata": {},
   "outputs": [
    {
     "name": "stdout",
     "output_type": "stream",
     "text": [
      "Please provide Dependent VariablePclass\n",
      "Accuracy Score  0.8876404494382022 Dependent Variable =  Pclass  Independent Variable - Remaining\n"
     ]
    }
   ],
   "source": [
    "def svm_Loop(strDV):\n",
    "    for i in data.columns:\n",
    "        if (i!='PassengerId' and i==strDV):\n",
    "            y = data[i]\n",
    "            X= data.drop([i,\"PassengerId\"],axis = 1)\n",
    "            #print (i)\n",
    "            X_train,X_test,y_train,y_test = train_test_split(X,y,test_size=0.3,random_state=0)\n",
    "            clf = svm.SVC(gamma=0.01,C=100)\n",
    "            clf.fit(X_train,y_train)\n",
    "            y_pred = clf.predict(X_test)        \n",
    "            print(\"Accuracy Score \",accuracy_score(y_test,y_pred,normalize=True),\"Dependent Variable = \",i,\" Independent Variable - Remaining\")\n",
    "        elif (i==strDV):\n",
    "            print (i , \" Cannot be considered as Dependent Variable\")\n",
    "            \n",
    "\n",
    "\n",
    "strDV = input ('Please provide Dependent Variable')\n",
    "#print ( strDV )\n",
    "svm_Loop(strDV)"
   ]
  },
  {
   "cell_type": "markdown",
   "metadata": {},
   "source": [
    "# KNN Assignment using Loops"
   ]
  },
  {
   "cell_type": "code",
   "execution_count": 19,
   "metadata": {},
   "outputs": [],
   "source": [
    "from sklearn import neighbors"
   ]
  },
  {
   "cell_type": "code",
   "execution_count": 22,
   "metadata": {},
   "outputs": [
    {
     "data": {
      "text/html": [
       "<div>\n",
       "<style scoped>\n",
       "    .dataframe tbody tr th:only-of-type {\n",
       "        vertical-align: middle;\n",
       "    }\n",
       "\n",
       "    .dataframe tbody tr th {\n",
       "        vertical-align: top;\n",
       "    }\n",
       "\n",
       "    .dataframe thead th {\n",
       "        text-align: right;\n",
       "    }\n",
       "</style>\n",
       "<table border=\"1\" class=\"dataframe\">\n",
       "  <thead>\n",
       "    <tr style=\"text-align: right;\">\n",
       "      <th></th>\n",
       "      <th>PassengerId</th>\n",
       "      <th>Survived</th>\n",
       "      <th>Pclass</th>\n",
       "      <th>Sex</th>\n",
       "      <th>Age</th>\n",
       "      <th>SibSp</th>\n",
       "      <th>Parch</th>\n",
       "      <th>Fare</th>\n",
       "      <th>Embarked</th>\n",
       "    </tr>\n",
       "  </thead>\n",
       "  <tbody>\n",
       "    <tr>\n",
       "      <th>0</th>\n",
       "      <td>1</td>\n",
       "      <td>0</td>\n",
       "      <td>3</td>\n",
       "      <td>1</td>\n",
       "      <td>28</td>\n",
       "      <td>1</td>\n",
       "      <td>0</td>\n",
       "      <td>18</td>\n",
       "      <td>2</td>\n",
       "    </tr>\n",
       "    <tr>\n",
       "      <th>1</th>\n",
       "      <td>2</td>\n",
       "      <td>1</td>\n",
       "      <td>1</td>\n",
       "      <td>0</td>\n",
       "      <td>51</td>\n",
       "      <td>1</td>\n",
       "      <td>0</td>\n",
       "      <td>207</td>\n",
       "      <td>0</td>\n",
       "    </tr>\n",
       "  </tbody>\n",
       "</table>\n",
       "</div>"
      ],
      "text/plain": [
       "   PassengerId  Survived  Pclass  Sex  Age  SibSp  Parch  Fare  Embarked\n",
       "0            1         0       3    1   28      1      0    18         2\n",
       "1            2         1       1    0   51      1      0   207         0"
      ]
     },
     "execution_count": 22,
     "metadata": {},
     "output_type": "execute_result"
    }
   ],
   "source": [
    "data.head(2)"
   ]
  },
  {
   "cell_type": "code",
   "execution_count": 21,
   "metadata": {},
   "outputs": [
    {
     "data": {
      "text/plain": [
       "0.7677902621722846"
      ]
     },
     "execution_count": 21,
     "metadata": {},
     "output_type": "execute_result"
    }
   ],
   "source": [
    "X_train,X_test,y_train,y_test = train_test_split(X,y,test_size=0.3,random_state=0)\n",
    "knn=neighbors.KNeighborsClassifier(n_neighbors=3) #K = 3 , as Survived as 3 categories\n",
    "knn.fit(X_train,y_train).score(X_test,y_test)"
   ]
  },
  {
   "cell_type": "code",
   "execution_count": 64,
   "metadata": {},
   "outputs": [
    {
     "name": "stdout",
     "output_type": "stream",
     "text": [
      "Please provide Dependent Variable Age\n",
      "Accuracy Score  =  0.09737827715355805  K - Value =  1\n",
      "Accuracy Score  =  0.052434456928838954  K - Value =  2\n",
      "Accuracy Score  =  0.0898876404494382  K - Value =  3\n",
      "Accuracy Score  =  0.10486891385767791  K - Value =  4\n",
      "Accuracy Score  =  0.14232209737827714  K - Value =  5\n",
      "Accuracy Score  =  0.14606741573033707  K - Value =  6\n",
      "Accuracy Score  =  0.1348314606741573  K - Value =  7\n",
      "Accuracy Score  =  0.1348314606741573  K - Value =  8\n",
      "Accuracy Score  =  0.1348314606741573  K - Value =  9\n",
      "Accuracy Score  =  0.1348314606741573  K - Value =  10\n",
      "Accuracy Score  =  0.13857677902621723  K - Value =  11\n",
      "Accuracy Score  =  0.15730337078651685  K - Value =  12\n",
      "Accuracy Score  =  0.16104868913857678  K - Value =  13\n",
      "Accuracy Score  =  0.15355805243445692  K - Value =  14\n",
      "Accuracy Score  =  0.16104868913857678  K - Value =  15\n",
      "Accuracy Score  =  0.1760299625468165  K - Value =  16\n",
      "Accuracy Score  =  0.18726591760299627  K - Value =  17\n",
      "Accuracy Score  =  0.1797752808988764  K - Value =  18\n",
      "Accuracy Score  =  0.18352059925093633  K - Value =  19\n",
      "Accuracy Score  =  0.1797752808988764  K - Value =  20\n",
      "Accuracy Score  =  0.1797752808988764  K - Value =  21\n",
      "Accuracy Score  =  0.17228464419475656  K - Value =  22\n",
      "Accuracy Score  =  0.1760299625468165  K - Value =  23\n",
      "Accuracy Score  =  0.1760299625468165  K - Value =  24\n",
      "Accuracy Score  =  0.17228464419475656  K - Value =  25\n",
      "Accuracy Score  =  0.1760299625468165  K - Value =  26\n",
      "Accuracy Score  =  0.1760299625468165  K - Value =  27\n",
      "Accuracy Score  =  0.1760299625468165  K - Value =  28\n",
      "Accuracy Score  =  0.1760299625468165  K - Value =  29\n",
      "Accuracy Score  =  0.18352059925093633  K - Value =  30\n",
      "Accuracy Score  =  0.18352059925093633  K - Value =  31\n",
      "Accuracy Score  =  0.17228464419475656  K - Value =  32\n",
      "Accuracy Score  =  0.1760299625468165  K - Value =  33\n",
      "Accuracy Score  =  0.16853932584269662  K - Value =  34\n",
      "Accuracy Score  =  0.17228464419475656  K - Value =  35\n",
      "Accuracy Score  =  0.17228464419475656  K - Value =  36\n",
      "Accuracy Score  =  0.17228464419475656  K - Value =  37\n",
      "Accuracy Score  =  0.17228464419475656  K - Value =  38\n",
      "Accuracy Score  =  0.17228464419475656  K - Value =  39\n",
      "Accuracy Score  =  0.1760299625468165  K - Value =  40\n",
      "Accuracy Score  =  0.1760299625468165  K - Value =  41\n",
      "Accuracy Score  =  0.1760299625468165  K - Value =  42\n",
      "Accuracy Score  =  0.1760299625468165  K - Value =  43\n",
      "Accuracy Score  =  0.1797752808988764  K - Value =  44\n",
      "Accuracy Score  =  0.18352059925093633  K - Value =  45\n",
      "Accuracy Score  =  0.18352059925093633  K - Value =  46\n",
      "Accuracy Score  =  0.18352059925093633  K - Value =  47\n",
      "Accuracy Score  =  0.18352059925093633  K - Value =  48\n",
      "Accuracy Score  =  0.18726591760299627  K - Value =  49\n",
      "Accuracy Score  =  0.18726591760299627  K - Value =  50\n",
      "Accuracy Score  =  0.18726591760299627  K - Value =  51\n",
      "Accuracy Score  =  0.18726591760299627  K - Value =  52\n",
      "Accuracy Score  =  0.18726591760299627  K - Value =  53\n",
      "Accuracy Score  =  0.18726591760299627  K - Value =  54\n",
      "Accuracy Score  =  0.18726591760299627  K - Value =  55\n",
      "Accuracy Score  =  0.1947565543071161  K - Value =  56\n",
      "Accuracy Score  =  0.1947565543071161  K - Value =  57\n",
      "Accuracy Score  =  0.1947565543071161  K - Value =  58\n",
      "Accuracy Score  =  0.1947565543071161  K - Value =  59\n",
      "Accuracy Score  =  0.1947565543071161  K - Value =  60\n",
      "Accuracy Score  =  0.1947565543071161  K - Value =  61\n",
      "Accuracy Score  =  0.1947565543071161  K - Value =  62\n",
      "Accuracy Score  =  0.1947565543071161  K - Value =  63\n",
      "Accuracy Score  =  0.1947565543071161  K - Value =  64\n",
      "Accuracy Score  =  0.1947565543071161  K - Value =  65\n",
      "Accuracy Score  =  0.1947565543071161  K - Value =  66\n",
      "Accuracy Score  =  0.1947565543071161  K - Value =  67\n",
      "Accuracy Score  =  0.1947565543071161  K - Value =  68\n",
      "Accuracy Score  =  0.1947565543071161  K - Value =  69\n",
      "Accuracy Score  =  0.1947565543071161  K - Value =  70\n",
      "Accuracy Score  =  0.1947565543071161  K - Value =  71\n",
      "Accuracy Score  =  0.1947565543071161  K - Value =  72\n",
      "Accuracy Score  =  0.1947565543071161  K - Value =  73\n",
      "Accuracy Score  =  0.1947565543071161  K - Value =  74\n",
      "Accuracy Score  =  0.1947565543071161  K - Value =  75\n",
      "Accuracy Score  =  0.1947565543071161  K - Value =  76\n",
      "Accuracy Score  =  0.1947565543071161  K - Value =  77\n",
      "Accuracy Score  =  0.1947565543071161  K - Value =  78\n",
      "Accuracy Score  =  0.1947565543071161  K - Value =  79\n",
      "Accuracy Score  =  0.1947565543071161  K - Value =  80\n",
      "Accuracy Score  =  0.1947565543071161  K - Value =  81\n",
      "Accuracy Score  =  0.1947565543071161  K - Value =  82\n",
      "Accuracy Score  =  0.1947565543071161  K - Value =  83\n",
      "Accuracy Score  =  0.1947565543071161  K - Value =  84\n",
      "Accuracy Score  =  0.1947565543071161  K - Value =  85\n",
      "Accuracy Score  =  0.1947565543071161  K - Value =  86\n",
      "Accuracy Score  =  0.1947565543071161  K - Value =  87\n",
      "Accuracy Score  =  0.1947565543071161  K - Value =  88\n",
      "Accuracy Score  =  0.1947565543071161  K - Value =  89\n",
      "Accuracy Score  =  0.1947565543071161  K - Value =  90\n",
      "Accuracy Score  =  0.1947565543071161  K - Value =  91\n",
      "Accuracy Score  =  0.1947565543071161  K - Value =  92\n",
      "Accuracy Score  =  0.1947565543071161  K - Value =  93\n",
      "Accuracy Score  =  0.1947565543071161  K - Value =  94\n",
      "Accuracy Score  =  0.1947565543071161  K - Value =  95\n",
      "Accuracy Score  =  0.1947565543071161  K - Value =  96\n",
      "Accuracy Score  =  0.1947565543071161  K - Value =  97\n",
      "Accuracy Score  =  0.1947565543071161  K - Value =  98\n",
      "Accuracy Score  =  0.1947565543071161  K - Value =  99\n",
      "Accuracy Score  =  0.1947565543071161  K - Value =  100\n",
      "Accuracy Score  =  0.1947565543071161  K - Value =  101\n",
      "Accuracy Score  =  0.1947565543071161  K - Value =  102\n",
      "Accuracy Score  =  0.1947565543071161  K - Value =  103\n",
      "Accuracy Score  =  0.1947565543071161  K - Value =  104\n",
      "Accuracy Score  =  0.1947565543071161  K - Value =  105\n",
      "Accuracy Score  =  0.1947565543071161  K - Value =  106\n",
      "Accuracy Score  =  0.1947565543071161  K - Value =  107\n",
      "Accuracy Score  =  0.1947565543071161  K - Value =  108\n",
      "Accuracy Score  =  0.1947565543071161  K - Value =  109\n",
      "Accuracy Score  =  0.1947565543071161  K - Value =  110\n",
      "Accuracy Score  =  0.1947565543071161  K - Value =  111\n",
      "Accuracy Score  =  0.1947565543071161  K - Value =  112\n",
      "Accuracy Score  =  0.1947565543071161  K - Value =  113\n",
      "Accuracy Score  =  0.1947565543071161  K - Value =  114\n",
      "Accuracy Score  =  0.1947565543071161  K - Value =  115\n",
      "Accuracy Score  =  0.1947565543071161  K - Value =  116\n",
      "Accuracy Score  =  0.1947565543071161  K - Value =  117\n",
      "Accuracy Score  =  0.1947565543071161  K - Value =  118\n",
      "Accuracy Score  =  0.1947565543071161  K - Value =  119\n",
      "Accuracy Score  =  0.1947565543071161  K - Value =  120\n",
      "Accuracy Score  =  0.1947565543071161  K - Value =  121\n",
      "Accuracy Score  =  0.1947565543071161  K - Value =  122\n",
      "Accuracy Score  =  0.1947565543071161  K - Value =  123\n",
      "Accuracy Score  =  0.1947565543071161  K - Value =  124\n",
      "Accuracy Score  =  0.1947565543071161  K - Value =  125\n",
      "Accuracy Score  =  0.1947565543071161  K - Value =  126\n",
      "Accuracy Score  =  0.1947565543071161  K - Value =  127\n",
      "Accuracy Score  =  0.1947565543071161  K - Value =  128\n",
      "Accuracy Score  =  0.1947565543071161  K - Value =  129\n",
      "Accuracy Score  =  0.1947565543071161  K - Value =  130\n",
      "Accuracy Score  =  0.1947565543071161  K - Value =  131\n",
      "Accuracy Score  =  0.1947565543071161  K - Value =  132\n",
      "Accuracy Score  =  0.1947565543071161  K - Value =  133\n",
      "Accuracy Score  =  0.1947565543071161  K - Value =  134\n",
      "Accuracy Score  =  0.1947565543071161  K - Value =  135\n",
      "Accuracy Score  =  0.1947565543071161  K - Value =  136\n",
      "Accuracy Score  =  0.1947565543071161  K - Value =  137\n",
      "Accuracy Score  =  0.1947565543071161  K - Value =  138\n",
      "Accuracy Score  =  0.1947565543071161  K - Value =  139\n",
      "Accuracy Score  =  0.1947565543071161  K - Value =  140\n",
      "Accuracy Score  =  0.1947565543071161  K - Value =  141\n",
      "Accuracy Score  =  0.1947565543071161  K - Value =  142\n",
      "Accuracy Score  =  0.1947565543071161  K - Value =  143\n",
      "Accuracy Score  =  0.1947565543071161  K - Value =  144\n",
      "Accuracy Score  =  0.1947565543071161  K - Value =  145\n",
      "Accuracy Score  =  0.1947565543071161  K - Value =  146\n",
      "Accuracy Score  =  0.1947565543071161  K - Value =  147\n"
     ]
    },
    {
     "name": "stdout",
     "output_type": "stream",
     "text": [
      "Accuracy Score  =  0.1947565543071161  K - Value =  148\n",
      "Accuracy Score  =  0.1947565543071161  K - Value =  149\n",
      "Accuracy Score  =  0.1947565543071161  K - Value =  150\n",
      "Accuracy Score  =  0.1947565543071161  K - Value =  151\n",
      "Accuracy Score  =  0.1947565543071161  K - Value =  152\n",
      "Accuracy Score  =  0.1947565543071161  K - Value =  153\n",
      "Accuracy Score  =  0.1947565543071161  K - Value =  154\n",
      "Accuracy Score  =  0.1947565543071161  K - Value =  155\n",
      "Accuracy Score  =  0.1947565543071161  K - Value =  156\n",
      "Accuracy Score  =  0.1947565543071161  K - Value =  157\n",
      "Accuracy Score  =  0.1947565543071161  K - Value =  158\n",
      "Accuracy Score  =  0.1947565543071161  K - Value =  159\n",
      "Accuracy Score  =  0.1947565543071161  K - Value =  160\n",
      "Accuracy Score  =  0.1947565543071161  K - Value =  161\n",
      "Accuracy Score  =  0.1947565543071161  K - Value =  162\n",
      "Accuracy Score  =  0.1947565543071161  K - Value =  163\n",
      "Accuracy Score  =  0.1947565543071161  K - Value =  164\n",
      "Accuracy Score  =  0.1947565543071161  K - Value =  165\n",
      "Accuracy Score  =  0.1947565543071161  K - Value =  166\n",
      "Accuracy Score  =  0.1947565543071161  K - Value =  167\n",
      "Accuracy Score  =  0.1947565543071161  K - Value =  168\n",
      "Accuracy Score  =  0.1947565543071161  K - Value =  169\n",
      "Accuracy Score  =  0.1947565543071161  K - Value =  170\n",
      "Accuracy Score  =  0.1947565543071161  K - Value =  171\n",
      "Accuracy Score  =  0.1947565543071161  K - Value =  172\n",
      "Accuracy Score  =  0.1947565543071161  K - Value =  173\n",
      "Accuracy Score  =  0.1947565543071161  K - Value =  174\n",
      "Accuracy Score  =  0.1947565543071161  K - Value =  175\n",
      "Accuracy Score  =  0.1947565543071161  K - Value =  176\n",
      "Accuracy Score  =  0.1947565543071161  K - Value =  177\n",
      "Accuracy Score  =  0.1947565543071161  K - Value =  178\n",
      "Accuracy Score  =  0.1947565543071161  K - Value =  179\n",
      "Accuracy Score  =  0.1947565543071161  K - Value =  180\n",
      "Accuracy Score  =  0.1947565543071161  K - Value =  181\n",
      "Accuracy Score  =  0.1947565543071161  K - Value =  182\n",
      "Accuracy Score  =  0.1947565543071161  K - Value =  183\n",
      "Accuracy Score  =  0.1947565543071161  K - Value =  184\n",
      "Accuracy Score  =  0.1947565543071161  K - Value =  185\n",
      "Accuracy Score  =  0.1947565543071161  K - Value =  186\n",
      "Accuracy Score  =  0.1947565543071161  K - Value =  187\n",
      "Accuracy Score  =  0.1947565543071161  K - Value =  188\n",
      "Accuracy Score  =  0.1947565543071161  K - Value =  189\n",
      "Accuracy Score  =  0.1947565543071161  K - Value =  190\n",
      "Accuracy Score  =  0.1947565543071161  K - Value =  191\n",
      "Accuracy Score  =  0.1947565543071161  K - Value =  192\n",
      "Accuracy Score  =  0.1947565543071161  K - Value =  193\n",
      "Accuracy Score  =  0.1947565543071161  K - Value =  194\n",
      "Accuracy Score  =  0.1947565543071161  K - Value =  195\n",
      "Accuracy Score  =  0.1947565543071161  K - Value =  196\n",
      "Accuracy Score  =  0.1947565543071161  K - Value =  197\n",
      "Accuracy Score  =  0.1947565543071161  K - Value =  198\n",
      "Accuracy Score  =  0.1947565543071161  K - Value =  199\n",
      "Accuracy Score  =  0.1947565543071161  K - Value =  200\n",
      "Accuracy Score  =  0.1947565543071161  K - Value =  201\n",
      "Accuracy Score  =  0.1947565543071161  K - Value =  202\n",
      "Accuracy Score  =  0.1947565543071161  K - Value =  203\n",
      "Accuracy Score  =  0.1947565543071161  K - Value =  204\n",
      "Accuracy Score  =  0.1947565543071161  K - Value =  205\n",
      "Accuracy Score  =  0.1947565543071161  K - Value =  206\n",
      "Accuracy Score  =  0.1947565543071161  K - Value =  207\n",
      "Accuracy Score  =  0.1947565543071161  K - Value =  208\n",
      "Accuracy Score  =  0.1947565543071161  K - Value =  209\n",
      "Accuracy Score  =  0.1947565543071161  K - Value =  210\n",
      "Accuracy Score  =  0.1947565543071161  K - Value =  211\n",
      "Accuracy Score  =  0.1947565543071161  K - Value =  212\n",
      "Accuracy Score  =  0.1947565543071161  K - Value =  213\n",
      "Accuracy Score  =  0.1947565543071161  K - Value =  214\n",
      "Accuracy Score  =  0.1947565543071161  K - Value =  215\n",
      "Accuracy Score  =  0.1947565543071161  K - Value =  216\n",
      "Accuracy Score  =  0.1947565543071161  K - Value =  217\n",
      "Accuracy Score  =  0.1947565543071161  K - Value =  218\n",
      "Accuracy Score  =  0.1947565543071161  K - Value =  219\n",
      "Accuracy Score  =  0.1947565543071161  K - Value =  220\n",
      "Accuracy Score  =  0.1947565543071161  K - Value =  221\n",
      "Accuracy Score  =  0.1947565543071161  K - Value =  222\n",
      "Accuracy Score  =  0.1947565543071161  K - Value =  223\n",
      "Accuracy Score  =  0.1947565543071161  K - Value =  224\n",
      "Accuracy Score  =  0.1947565543071161  K - Value =  225\n",
      "Accuracy Score  =  0.1947565543071161  K - Value =  226\n",
      "Accuracy Score  =  0.1947565543071161  K - Value =  227\n",
      "Accuracy Score  =  0.1947565543071161  K - Value =  228\n",
      "Accuracy Score  =  0.1947565543071161  K - Value =  229\n",
      "Accuracy Score  =  0.1947565543071161  K - Value =  230\n",
      "Accuracy Score  =  0.1947565543071161  K - Value =  231\n",
      "Accuracy Score  =  0.1947565543071161  K - Value =  232\n",
      "Accuracy Score  =  0.1947565543071161  K - Value =  233\n",
      "Accuracy Score  =  0.1947565543071161  K - Value =  234\n",
      "Accuracy Score  =  0.1947565543071161  K - Value =  235\n",
      "Accuracy Score  =  0.1947565543071161  K - Value =  236\n",
      "Accuracy Score  =  0.1947565543071161  K - Value =  237\n",
      "Accuracy Score  =  0.1947565543071161  K - Value =  238\n",
      "Accuracy Score  =  0.1947565543071161  K - Value =  239\n",
      "Accuracy Score  =  0.1947565543071161  K - Value =  240\n",
      "Accuracy Score  =  0.1947565543071161  K - Value =  241\n",
      "Accuracy Score  =  0.1947565543071161  K - Value =  242\n",
      "Accuracy Score  =  0.1947565543071161  K - Value =  243\n",
      "Accuracy Score  =  0.1947565543071161  K - Value =  244\n",
      "Accuracy Score  =  0.1947565543071161  K - Value =  245\n",
      "Accuracy Score  =  0.1947565543071161  K - Value =  246\n",
      "Accuracy Score  =  0.1947565543071161  K - Value =  247\n",
      "Accuracy Score  =  0.1947565543071161  K - Value =  248\n",
      "Accuracy Score  =  0.1947565543071161  K - Value =  249\n",
      "Accuracy Score  =  0.1947565543071161  K - Value =  250\n",
      "Accuracy Score  =  0.1947565543071161  K - Value =  251\n",
      "Accuracy Score  =  0.1947565543071161  K - Value =  252\n",
      "Accuracy Score  =  0.1947565543071161  K - Value =  253\n",
      "Accuracy Score  =  0.1947565543071161  K - Value =  254\n",
      "Accuracy Score  =  0.1947565543071161  K - Value =  255\n",
      "Accuracy Score  =  0.1947565543071161  K - Value =  256\n",
      "Accuracy Score  =  0.1947565543071161  K - Value =  257\n",
      "Accuracy Score  =  0.1947565543071161  K - Value =  258\n",
      "Accuracy Score  =  0.1947565543071161  K - Value =  259\n",
      "Accuracy Score  =  0.1947565543071161  K - Value =  260\n",
      "Accuracy Score  =  0.1947565543071161  K - Value =  261\n",
      "Accuracy Score  =  0.1947565543071161  K - Value =  262\n",
      "Accuracy Score  =  0.1947565543071161  K - Value =  263\n",
      "Accuracy Score  =  0.1947565543071161  K - Value =  264\n",
      "Accuracy Score  =  0.1947565543071161  K - Value =  265\n",
      "Accuracy Score  =  0.1947565543071161  K - Value =  266\n"
     ]
    }
   ],
   "source": [
    "def KNN_Loop(strDV):\n",
    "    if (strDV in data.columns ) :\n",
    "        y = data[strDV]\n",
    "        X= data.drop([strDV,\"PassengerId\"],axis = 1)\n",
    "        X_train,X_test,y_train,y_test = train_test_split(X,y,test_size=0.3,random_state=0) \n",
    "        intCnt = len(X_test)\n",
    "        \n",
    "        for i in range (1,intCnt):\n",
    "            knn=neighbors.KNeighborsClassifier(n_neighbors=i) #K = 3 , as Survived as 3 categories\n",
    "            print (\"Accuracy Score  = \",knn.fit(X_train,y_train).score(X_test,y_test),\" K - Value = \",i)\n",
    "    else :\n",
    "        print (strDV , \" is not present in the Dataset\")\n",
    "    \n",
    "    \n",
    "    \n",
    "strDV = input ('Please provide Dependent Variable ')\n",
    "#print ( strDV )\n",
    "KNN_Loop(strDV)\n",
    "    "
   ]
  },
  {
   "cell_type": "markdown",
   "metadata": {},
   "source": [
    "# Naive Bayes Theorem Loop"
   ]
  },
  {
   "cell_type": "code",
   "execution_count": 74,
   "metadata": {},
   "outputs": [
    {
     "data": {
      "text/html": [
       "<div>\n",
       "<style scoped>\n",
       "    .dataframe tbody tr th:only-of-type {\n",
       "        vertical-align: middle;\n",
       "    }\n",
       "\n",
       "    .dataframe tbody tr th {\n",
       "        vertical-align: top;\n",
       "    }\n",
       "\n",
       "    .dataframe thead th {\n",
       "        text-align: right;\n",
       "    }\n",
       "</style>\n",
       "<table border=\"1\" class=\"dataframe\">\n",
       "  <thead>\n",
       "    <tr style=\"text-align: right;\">\n",
       "      <th></th>\n",
       "      <th>PassengerId</th>\n",
       "      <th>Survived</th>\n",
       "      <th>Pclass</th>\n",
       "      <th>Sex</th>\n",
       "      <th>Age</th>\n",
       "      <th>SibSp</th>\n",
       "      <th>Parch</th>\n",
       "      <th>Fare</th>\n",
       "      <th>Embarked</th>\n",
       "    </tr>\n",
       "  </thead>\n",
       "  <tbody>\n",
       "    <tr>\n",
       "      <th>0</th>\n",
       "      <td>1</td>\n",
       "      <td>0</td>\n",
       "      <td>3</td>\n",
       "      <td>1</td>\n",
       "      <td>28</td>\n",
       "      <td>1</td>\n",
       "      <td>0</td>\n",
       "      <td>18</td>\n",
       "      <td>2</td>\n",
       "    </tr>\n",
       "    <tr>\n",
       "      <th>1</th>\n",
       "      <td>2</td>\n",
       "      <td>1</td>\n",
       "      <td>1</td>\n",
       "      <td>0</td>\n",
       "      <td>51</td>\n",
       "      <td>1</td>\n",
       "      <td>0</td>\n",
       "      <td>207</td>\n",
       "      <td>0</td>\n",
       "    </tr>\n",
       "  </tbody>\n",
       "</table>\n",
       "</div>"
      ],
      "text/plain": [
       "   PassengerId  Survived  Pclass  Sex  Age  SibSp  Parch  Fare  Embarked\n",
       "0            1         0       3    1   28      1      0    18         2\n",
       "1            2         1       1    0   51      1      0   207         0"
      ]
     },
     "execution_count": 74,
     "metadata": {},
     "output_type": "execute_result"
    }
   ],
   "source": [
    "data = pd.read_csv(\"train.csv\")\n",
    "data = data.drop([\"Name\",\"Ticket\",\"Cabin\"],axis=1)\n",
    "data.columns\n",
    "le.fit(data[\"Sex\"])\n",
    "data[\"Sex\"] = le.transform(data[\"Sex\"])\n",
    "data[\"Embarked\"] = le.fit_transform(data[\"Embarked\"])\n",
    "data[\"Age\"] = le.fit_transform(data[\"Age\"])\n",
    "data[\"Fare\"] = le.fit_transform(data[\"Fare\"])\n",
    "data.head(2)"
   ]
  },
  {
   "cell_type": "code",
   "execution_count": 78,
   "metadata": {},
   "outputs": [
    {
     "data": {
      "text/plain": [
       "0.7715355805243446"
      ]
     },
     "execution_count": 78,
     "metadata": {},
     "output_type": "execute_result"
    }
   ],
   "source": [
    "from sklearn.naive_bayes import *\n",
    "y = data[\"Survived\"]\n",
    "X = data.drop([\"Survived\",\"PassengerId\"],axis=1)\n",
    "X_train,X_test,y_train,y_test = train_test_split(X,y,test_size=0.3,random_state=0)\n",
    "\n",
    "clf = BernoulliNB()\n",
    "y_pred = clf.fit(X_train,y_train).predict(X_test)\n",
    "accuracy_score(y_test,y_pred,normalize=True)"
   ]
  },
  {
   "cell_type": "code",
   "execution_count": 85,
   "metadata": {},
   "outputs": [
    {
     "name": "stdout",
     "output_type": "stream",
     "text": [
      "Please provide Dependent Variable Age\n",
      "Naive Bayes Theorem - Accuracy Score =  0.1797752808988764\n"
     ]
    }
   ],
   "source": [
    "def NB_Loop(strDV):\n",
    "    for i in data.columns:\n",
    "        if (i!='PassengerId' and i==strDV):\n",
    "            y = data[i]\n",
    "            X = data.drop([i,\"PassengerId\"],axis=1)\n",
    "            X_train,X_test,y_train,y_test = train_test_split(X,y,test_size=0.3,random_state=0)\n",
    "            clf = BernoulliNB()\n",
    "            y_pred = clf.fit(X_train,y_train).predict(X_test)            \n",
    "            print (\"Naive Bayes Theorem - Accuracy Score = \",accuracy_score(y_test,y_pred,normalize=True))\n",
    "        elif (i==strDV):\n",
    "            print (i , \" Cannot be considered as Dependent Variable\")\n",
    "            \n",
    "\n",
    "\n",
    "strDV = input ('Please provide Dependent Variable ')\n",
    "#print ( strDV )\n",
    "NB_Loop(strDV)\n",
    "        \n",
    "    "
   ]
  },
  {
   "cell_type": "code",
   "execution_count": null,
   "metadata": {},
   "outputs": [],
   "source": []
  }
 ],
 "metadata": {
  "kernelspec": {
   "display_name": "Python 3",
   "language": "python",
   "name": "python3"
  },
  "language_info": {
   "codemirror_mode": {
    "name": "ipython",
    "version": 3
   },
   "file_extension": ".py",
   "mimetype": "text/x-python",
   "name": "python",
   "nbconvert_exporter": "python",
   "pygments_lexer": "ipython3",
   "version": "3.7.6"
  }
 },
 "nbformat": 4,
 "nbformat_minor": 4
}
