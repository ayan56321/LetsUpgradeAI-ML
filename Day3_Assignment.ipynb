{
 "cells": [
  {
   "cell_type": "code",
   "execution_count": 1,
   "metadata": {},
   "outputs": [
    {
     "name": "stdout",
     "output_type": "stream",
     "text": [
      "<class 'str'>\n",
      "<class 'int'>\n",
      "<class 'float'>\n"
     ]
    }
   ],
   "source": [
    "#Question 6\n",
    "# DataTypes in Python\n",
    "# String\n",
    "# Number - Int\n",
    "# Float\n",
    "\n",
    "a = \"Ayan\"\n",
    "num = 123\n",
    "numFloat = 1.56\n",
    "\n",
    "print (type(a))\n",
    "print (type(num))\n",
    "print (type(numFloat))\n",
    "\n"
   ]
  },
  {
   "cell_type": "code",
   "execution_count": 4,
   "metadata": {},
   "outputs": [
    {
     "name": "stdout",
     "output_type": "stream",
     "text": [
      "50  Value in Celsius = 9.9\n",
      "50  Value in Kelvin = 282.9\n"
     ]
    }
   ],
   "source": [
    "#Convert Fahreneit to Celsius\n",
    "fValue = 50\n",
    "\n",
    "cValue= (fValue - 32)* 0.55\n",
    "print (fValue,\" Value in Celsius =\",cValue)\n",
    "\n",
    "kValue = (fValue - 32)* 0.55 + 273\n",
    "print (fValue,\" Value in Kelvin =\",kValue)\n"
   ]
  },
  {
   "cell_type": "code",
   "execution_count": 8,
   "metadata": {},
   "outputs": [
    {
     "name": "stdout",
     "output_type": "stream",
     "text": [
      "Swapped Number  10 And the Other One -  5\n"
     ]
    }
   ],
   "source": [
    "x = 5\n",
    "y = 10\n",
    "\n",
    "x = x + y\n",
    "y = x - y\n",
    "x = x - y\n",
    "\n",
    "print(\"Swapped Number \",x,\"And the Other One - \",y)\n",
    "\n"
   ]
  },
  {
   "cell_type": "code",
   "execution_count": 9,
   "metadata": {},
   "outputs": [
    {
     "name": "stdout",
     "output_type": "stream",
     "text": [
      "Swapped Number  5 And the Other One -  10\n"
     ]
    }
   ],
   "source": [
    "first = 10\n",
    "second = 5\n",
    "\n",
    "temp = first;      \n",
    "first = second;\n",
    "second = temp;\n",
    "\n",
    "print(\"Swapped Number \",first,\"And the Other One - \",second)\n",
    "    "
   ]
  },
  {
   "cell_type": "code",
   "execution_count": 12,
   "metadata": {},
   "outputs": [
    {
     "name": "stdout",
     "output_type": "stream",
     "text": [
      "Value after Subtracting Numbers (12+9j)  And  (3+5j)  =  (9+4j)\n"
     ]
    }
   ],
   "source": [
    "fCmpNo = 3+5j\n",
    "sCmpNo = 12+9j\n",
    "\n",
    "print(\"Value after Subtracting Numbers\",sCmpNo,\" And \",fCmpNo,\" = \",sCmpNo-fCmpNo)\n",
    "\n"
   ]
  },
  {
   "cell_type": "code",
   "execution_count": 13,
   "metadata": {},
   "outputs": [
    {
     "name": "stdout",
     "output_type": "stream",
     "text": [
      " 4th root of number =  85  is =  3.036370276710811\n"
     ]
    }
   ],
   "source": [
    "num = 85\n",
    "\n",
    "print (\" 4th root of number = \",num,\" is = \",num**0.25)"
   ]
  },
  {
   "cell_type": "markdown",
   "metadata": {},
   "source": [
    "Need to create GitHub profile using Gmail account\n",
    "Create a new Repository , after providing name and Public as type of Repo and Click on Create\n",
    "Once done , you can do import file from any folder or drag and drop the file into the repository"
   ]
  },
  {
   "cell_type": "code",
   "execution_count": null,
   "metadata": {},
   "outputs": [],
   "source": []
  }
 ],
 "metadata": {
  "kernelspec": {
   "display_name": "Python 3",
   "language": "python",
   "name": "python3"
  },
  "language_info": {
   "codemirror_mode": {
    "name": "ipython",
    "version": 3
   },
   "file_extension": ".py",
   "mimetype": "text/x-python",
   "name": "python",
   "nbconvert_exporter": "python",
   "pygments_lexer": "ipython3",
   "version": "3.7.6"
  }
 },
 "nbformat": 4,
 "nbformat_minor": 4
}
